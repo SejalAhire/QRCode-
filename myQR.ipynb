{
 "cells": [
  {
   "cell_type": "markdown",
   "id": "d6df206a",
   "metadata": {},
   "source": [
    "# QR CODE USING PYTHON"
   ]
  },
  {
   "cell_type": "code",
   "execution_count": 5,
   "id": "f124c583",
   "metadata": {},
   "outputs": [
    {
     "name": "stdout",
     "output_type": "stream",
     "text": [
      "Collecting PyQRCode\n",
      "  Downloading PyQRCode-1.2.1.zip (41 kB)\n",
      "     ---------------------------------------- 41.9/41.9 kB ? eta 0:00:00\n",
      "  Preparing metadata (setup.py): started\n",
      "  Preparing metadata (setup.py): finished with status 'done'\n",
      "Building wheels for collected packages: PyQRCode\n",
      "  Building wheel for PyQRCode (setup.py): started\n",
      "  Building wheel for PyQRCode (setup.py): finished with status 'done'\n",
      "  Created wheel for PyQRCode: filename=PyQRCode-1.2.1-py3-none-any.whl size=36229 sha256=4d4717f4b621cba2cca2a1e02e609af492ef85f55b9274f7b59d5fb69fc60a48\n",
      "  Stored in directory: c:\\users\\asus\\appdata\\local\\pip\\cache\\wheels\\da\\75\\c0\\38c7f82750de2725429b6b8571dca254249d73f6c882c5d9b1\n",
      "Successfully built PyQRCode\n",
      "Installing collected packages: PyQRCode\n",
      "Successfully installed PyQRCode-1.2.1\n",
      "Collecting pypng\n",
      "  Downloading pypng-0.20220715.0-py3-none-any.whl (58 kB)\n",
      "     ---------------------------------------- 58.1/58.1 kB 3.2 MB/s eta 0:00:00\n",
      "Installing collected packages: pypng\n",
      "Successfully installed pypng-0.20220715.0\n"
     ]
    }
   ],
   "source": [
    "#Install required modules\n",
    "!pip install PyQRCode\n",
    "!pip install pypng"
   ]
  },
  {
   "cell_type": "code",
   "execution_count": 6,
   "id": "3df8ee37",
   "metadata": {},
   "outputs": [],
   "source": [
    "#import lib\n",
    "import pyqrcode\n",
    "import png"
   ]
  },
  {
   "cell_type": "code",
   "execution_count": 9,
   "id": "9db9f6a4",
   "metadata": {},
   "outputs": [],
   "source": [
    "#link you want your QR code to redirect\n",
    "link=\"https://www.linkedin.com/in/sejalahire\"\n",
    "qr_code=pyqrcode.create(link)\n",
    "\n",
    "#save your qrcode image\n",
    "qr_code.png(\"LinkedIn_Profile.png\",scale=5)\n"
   ]
  }
 ],
 "metadata": {
  "kernelspec": {
   "display_name": "Python 3 (ipykernel)",
   "language": "python",
   "name": "python3"
  },
  "language_info": {
   "codemirror_mode": {
    "name": "ipython",
    "version": 3
   },
   "file_extension": ".py",
   "mimetype": "text/x-python",
   "name": "python",
   "nbconvert_exporter": "python",
   "pygments_lexer": "ipython3",
   "version": "3.9.13"
  }
 },
 "nbformat": 4,
 "nbformat_minor": 5
}
